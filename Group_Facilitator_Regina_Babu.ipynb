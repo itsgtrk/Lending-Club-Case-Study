{
 "cells": [
  {
   "cell_type": "code",
   "execution_count": null,
   "id": "775f13a4",
   "metadata": {},
   "outputs": [],
   "source": [
    "import pandas as pd\n",
    "import numpy as np\n",
    "import seaborn as sns\n",
    "from scipy import stats \n",
    "import matplotlib.pyplot as plt\n",
    "import hvplot.pandas"
   ]
  },
  {
   "cell_type": "markdown",
   "id": "68991642",
   "metadata": {},
   "source": [
    "*** Importing Data ***"
   ]
  },
  {
   "cell_type": "code",
   "execution_count": null,
   "id": "7da231d9",
   "metadata": {},
   "outputs": [],
   "source": [
    "df_master=pd.read_csv(r'C:\\Users\\Kumar149348\\Downloads\\loan.csv')"
   ]
  },
  {
   "cell_type": "markdown",
   "id": "a8894f39",
   "metadata": {},
   "source": [
    "### Checking Data Quality "
   ]
  },
  {
   "cell_type": "code",
   "execution_count": null,
   "id": "833b5314",
   "metadata": {},
   "outputs": [],
   "source": [
    "df_master.info()"
   ]
  },
  {
   "cell_type": "code",
   "execution_count": null,
   "id": "6a02401a",
   "metadata": {},
   "outputs": [],
   "source": [
    "# 39717 observations and 111 columns which matches with the data dictionary. So Imported data shape is correct"
   ]
  },
  {
   "cell_type": "code",
   "execution_count": null,
   "id": "8f65cdb3",
   "metadata": {},
   "outputs": [],
   "source": [
    "df_master.head()"
   ]
  },
  {
   "cell_type": "code",
   "execution_count": null,
   "id": "49e1afd0",
   "metadata": {},
   "outputs": [],
   "source": [
    "# Setting the display option to show all rows and columns\n",
    "pd.set_option('display.max_columns', None)\n",
    "pd.set_option('display.max_rows', None)\n",
    "df_master.dtypes"
   ]
  },
  {
   "cell_type": "markdown",
   "id": "135b4cff",
   "metadata": {},
   "source": [
    "#### Insights \n",
    "\n",
    "No issues in importing the data. Data Types also seeems to be correct.\n"
   ]
  },
  {
   "cell_type": "markdown",
   "id": "b72e02bf",
   "metadata": {},
   "source": [
    "### Understanding Data"
   ]
  },
  {
   "cell_type": "code",
   "execution_count": null,
   "id": "d527a105",
   "metadata": {},
   "outputs": [],
   "source": [
    "df_master.describe()"
   ]
  },
  {
   "cell_type": "code",
   "execution_count": null,
   "id": "fb33ed73",
   "metadata": {},
   "outputs": [],
   "source": [
    "df_master['loan_status'].value_counts().hvplot.bar(\n",
    "    title=\"Loan Status Counts\", xlabel='Loan Status', ylabel='Count', \n",
    "    width=500, height=350\n",
    ")"
   ]
  },
  {
   "cell_type": "markdown",
   "id": "d1cb15f4",
   "metadata": {},
   "source": [
    "### Target variable \"Loan Status\" is categorical and it is highly skewed in the data"
   ]
  },
  {
   "cell_type": "code",
   "execution_count": null,
   "id": "f9f2a4d5",
   "metadata": {},
   "outputs": [],
   "source": [
    "# identifying null columns---why remove them---coz they won't have any role to play in driving the default\n",
    "\n",
    "df_master.isnull().sum()"
   ]
  },
  {
   "cell_type": "code",
   "execution_count": null,
   "id": "84260961",
   "metadata": {},
   "outputs": [],
   "source": [
    "fill_rate=df_master.isna().mean().sort_values(ascending=False).round(4)*100"
   ]
  },
  {
   "cell_type": "code",
   "execution_count": null,
   "id": "a9b03b32",
   "metadata": {},
   "outputs": [],
   "source": [
    "# fill rate percentages for each columns\n",
    "\n",
    "fill_rate"
   ]
  },
  {
   "cell_type": "markdown",
   "id": "8fe230ba",
   "metadata": {},
   "source": [
    "### Columns that need to be dropped and why\n",
    "\n",
    "1. all columns with 0 fill rate-- as they would have no role in driving the defaults\n",
    "2. row identifiers like 1d and member id-- as they would have no role in driving the defaults\n",
    "3. text columns like url and desc-- as they would have no role in driving the defaults"
   ]
  },
  {
   "cell_type": "code",
   "execution_count": null,
   "id": "448e9754",
   "metadata": {},
   "outputs": [],
   "source": [
    "df_master.dropna(axis=1,how='all',inplace=True) "
   ]
  },
  {
   "cell_type": "code",
   "execution_count": null,
   "id": "46f4a687",
   "metadata": {},
   "outputs": [],
   "source": [
    "df_master=df_master.drop(['id','member_id','desc', 'url'],axis=1)"
   ]
  },
  {
   "cell_type": "code",
   "execution_count": null,
   "id": "a1ee3c8e",
   "metadata": {},
   "outputs": [],
   "source": [
    "df_master.info()"
   ]
  },
  {
   "cell_type": "markdown",
   "id": "9aa41234",
   "metadata": {},
   "source": [
    "## Missing value data truncation 2nd iteration"
   ]
  },
  {
   "cell_type": "code",
   "execution_count": null,
   "id": "b2fdcf24",
   "metadata": {},
   "outputs": [],
   "source": [
    "# Find columns with missing values\n",
    "cols_with_missing = df_master.columns[df_master.isnull().any()].tolist()\n",
    "\n",
    "df_missingValues = df_master[cols_with_missing]\n",
    "\n",
    "sns.heatmap(df_missingValues.isnull(), cbar=False, cmap = 'Blues')\n",
    "plt.show()"
   ]
  },
  {
   "cell_type": "markdown",
   "id": "aec9f3c4",
   "metadata": {},
   "source": [
    "## missing value column - emp_title"
   ]
  },
  {
   "cell_type": "code",
   "execution_count": null,
   "id": "51606725",
   "metadata": {},
   "outputs": [],
   "source": [
    "print(df_master['emp_title'].value_counts())\n",
    "\n",
    "# Drop column 'title'\n",
    "loan_data = df_master.drop(columns=['emp_title'])"
   ]
  },
  {
   "cell_type": "markdown",
   "id": "1bec097e",
   "metadata": {},
   "source": [
    "#### Observation\n",
    "\n",
    "From the analysis of the emp_title, unless we have ranking for the titles, or grades for them it would not serve any purpose in analysis.\n",
    "\n",
    "So we decide to drop emp_title column. "
   ]
  },
  {
   "cell_type": "code",
   "execution_count": null,
   "id": "5ea462a0",
   "metadata": {},
   "outputs": [],
   "source": [
    "## missing value column - emp_length"
   ]
  },
  {
   "cell_type": "code",
   "execution_count": null,
   "id": "d0caf68d",
   "metadata": {},
   "outputs": [],
   "source": [
    "\n",
    "print(df_master['emp_length'].value_counts())\n",
    "\n",
    "print(df_master['emp_length'].unique())"
   ]
  },
  {
   "cell_type": "code",
   "execution_count": null,
   "id": "c59673e2",
   "metadata": {},
   "outputs": [],
   "source": [
    "# Analysis of missing value column - emp_length\n",
    "# \"Bivariate analysis\" to take a decision between the \"emp_length\" and the target variable\n",
    "\n",
    "\n",
    "# Create a crosstab dataframe\n",
    "cross_df = pd.crosstab(df_master['emp_length'], df_master['loan_status'])\n",
    "\n",
    "# Convert counts to percentage\n",
    "cross_df = cross_df.div(cross_df.sum(axis=1), axis=0)\n",
    "cross_df"
   ]
  },
  {
   "cell_type": "code",
   "execution_count": null,
   "id": "54a7d33f",
   "metadata": {},
   "outputs": [],
   "source": [
    "# Bivariate Plot\n",
    "cross_df.plot(kind='bar', stacked=True)\n",
    "plt.ylabel('Fraction of Loans')\n",
    "plt.title('Loan Status by Employment length')\n",
    "plt.show()\n"
   ]
  },
  {
   "cell_type": "markdown",
   "id": "a79e74bc",
   "metadata": {},
   "source": [
    "### Insights\n",
    "\n",
    "all the categories of employment length are showing consistent percentage of people in defaults\n",
    "\n",
    "Hence we would compute the missing value, and replace it with a complete constant - \"Unknown\" \n"
   ]
  },
  {
   "cell_type": "code",
   "execution_count": null,
   "id": "ea87bac4",
   "metadata": {},
   "outputs": [],
   "source": [
    "df_master['emp_length'].fillna('Unknown', inplace=True)"
   ]
  },
  {
   "cell_type": "code",
   "execution_count": null,
   "id": "a33f30fe",
   "metadata": {},
   "outputs": [],
   "source": [
    "#### Analysis of missing value column - title\n",
    "\n",
    "print(df_master['title'].value_counts())\n"
   ]
  },
  {
   "cell_type": "markdown",
   "id": "e0c0a360",
   "metadata": {},
   "source": [
    "### Insights\n",
    "\n",
    "\n",
    "From the analysis of the title, unless we have ranking for the titles, or grades for them it would not serve any purpose in analysis.\n",
    "\n",
    "So we decide to drop title column"
   ]
  },
  {
   "cell_type": "code",
   "execution_count": null,
   "id": "244386d5",
   "metadata": {},
   "outputs": [],
   "source": [
    "# Drop column 'title'\n",
    "df_master = df_master.drop(columns=['title'])"
   ]
  },
  {
   "cell_type": "markdown",
   "id": "521d4b40",
   "metadata": {},
   "source": [
    "#### Analysis of missing value column - mths_since_last_delinq\n",
    "Since this is a column which is recorded, we cannot impute the missing value. We let it remain as it is. \n",
    "\n"
   ]
  },
  {
   "cell_type": "code",
   "execution_count": null,
   "id": "87b0c25d",
   "metadata": {},
   "outputs": [],
   "source": [
    "df_master['mths_since_last_delinq'].fillna('Unknown', inplace=True)"
   ]
  },
  {
   "cell_type": "markdown",
   "id": "a638fc92",
   "metadata": {},
   "source": [
    "#### Analysis of missing value column - mths_since_last_record\n",
    "Since this is a column which is recorded, we cannot impute the missing value. We let it remain as it is. \n",
    "\n"
   ]
  },
  {
   "cell_type": "code",
   "execution_count": null,
   "id": "30e083c8",
   "metadata": {},
   "outputs": [],
   "source": [
    "df_master['mths_since_last_record'].fillna('Unknown', inplace=True)"
   ]
  },
  {
   "cell_type": "markdown",
   "id": "83fe6ddb",
   "metadata": {},
   "source": [
    "#### Analysis of missing value column - revol_util\n",
    "\n",
    "\"Revolving utilization\", also known as \"credit utilization ratio\", is a financial term commonly used in the credit industry, particularly with revolving lines of credit such as credit cards and personal lines of credit.\n",
    "\n",
    "This cannot be calculated or assumed based on the available data as it is a \"standard formula\". \n",
    "\n",
    "We can either assume 0% utilization or we can drop of the rows as it is not explicity stated. \n",
    "\n",
    "We would drop all rows where reov_util is not available for our analysis."
   ]
  },
  {
   "cell_type": "code",
   "execution_count": null,
   "id": "2289c284",
   "metadata": {},
   "outputs": [],
   "source": [
    "df_master = df_master.dropna(subset=['revol_util'])"
   ]
  },
  {
   "cell_type": "markdown",
   "id": "7491acca",
   "metadata": {},
   "source": [
    "\n",
    "#### Analysis of missing value column - last_pymnt_d\n",
    "Since this is a column which is recorded, we cannot impute the missing value. However we have last_pymnt_amnt which seems to be related to last_pymnt_d. \n",
    "\n",
    "The date not getting recorded seems to be a human error. With the last_pymnt_amnt field having all values, it can be used for any feature creation. \n",
    "\n",
    "So we would drop the column last_pymnt_d"
   ]
  },
  {
   "cell_type": "code",
   "execution_count": null,
   "id": "f8b19dbb",
   "metadata": {},
   "outputs": [],
   "source": [
    "# Drop column 'last_pymnt_d'\n",
    "df_master = df_master.drop(columns=[\"last_pymnt_d\"])"
   ]
  },
  {
   "cell_type": "markdown",
   "id": "d4743de6",
   "metadata": {},
   "source": [
    "#### Analysis of missing value column - next_pymnt_d\n",
    "Since this is a column which is recorded, we cannot impute the missing value. We would add a constant - \"Unknown\". \n",
    "\n",
    "\n"
   ]
  },
  {
   "cell_type": "code",
   "execution_count": null,
   "id": "ff69bec3",
   "metadata": {},
   "outputs": [],
   "source": [
    "df_master['next_pymnt_d'].fillna('Unknown', inplace=True)"
   ]
  },
  {
   "cell_type": "markdown",
   "id": "6b03a445",
   "metadata": {},
   "source": [
    "### Columns with very less missing data\n",
    "Bivariate is used to establish the logic for any imputation"
   ]
  },
  {
   "cell_type": "code",
   "execution_count": null,
   "id": "3b0f2266",
   "metadata": {},
   "outputs": [],
   "source": [
    "#### Analysis of missing value - last_credit_pull_d\n",
    "\n",
    "null_rows = df_master[df_master['last_credit_pull_d'].isnull()][['loan_status', 'last_credit_pull_d']]\n",
    "null_rows['last_credit_pull_d'].fillna('Unknown', inplace=True)"
   ]
  },
  {
   "cell_type": "code",
   "execution_count": null,
   "id": "6c0f519a",
   "metadata": {},
   "outputs": [],
   "source": [
    "# Create a crosstab dataframe\n",
    "cross_df = pd.crosstab(null_rows['last_credit_pull_d'], null_rows['loan_status'])\n",
    "\n",
    "# Convert counts to percentage\n",
    "cross_df = cross_df.div(cross_df.sum(axis=1), axis=0)\n",
    "\n",
    "# Plot\n",
    "cross_df.plot(kind='bar', stacked=True)\n",
    "plt.ylabel('Fraction of Loans')\n",
    "plt.title('Loan Status by last_credit_pull')\n",
    "plt.show()"
   ]
  },
  {
   "cell_type": "markdown",
   "id": "c4dc163f",
   "metadata": {},
   "source": [
    "Even if it a fraction of missing data, it leads us to believe that all people who do not went for credit pull, \n",
    "have been charged off, we can assume people not using this facility are not sure of making full payment \n",
    "or possibly given up on business. We would as of now assume a constant - Unknown for this date field."
   ]
  },
  {
   "cell_type": "code",
   "execution_count": null,
   "id": "791a5c2f",
   "metadata": {},
   "outputs": [],
   "source": [
    "df_master['last_credit_pull_d'].fillna('Unknown', inplace=True)"
   ]
  },
  {
   "cell_type": "code",
   "execution_count": null,
   "id": "4e74878e",
   "metadata": {},
   "outputs": [],
   "source": [
    "#### Analysis for missing value column - collections_12_mths_ex_med\n",
    "\n",
    "# Create a crosstab dataframe\n",
    "cross_df = pd.crosstab(df_master['collections_12_mths_ex_med'], df_master['loan_status'])\n",
    "\n",
    "# Convert counts to percentage\n",
    "cross_df = cross_df.div(cross_df.sum(axis=1), axis=0)\n",
    "\n",
    "# Plot\n",
    "cross_df.plot(kind='bar', stacked=True)\n",
    "plt.ylabel('Fraction of Loans')\n",
    "plt.title('Loan Status by collections_12_mths_ex_med')\n",
    "plt.show()\n",
    "\n"
   ]
  },
  {
   "cell_type": "markdown",
   "id": "9856f4c0",
   "metadata": {},
   "source": [
    "As \"collections_12_mths_ex_med\" has a single value \"0\", it seems to be a constant, we can replace the missing values with mode - \"0\". "
   ]
  },
  {
   "cell_type": "code",
   "execution_count": null,
   "id": "8496c7bf",
   "metadata": {},
   "outputs": [],
   "source": [
    "#### Analysis for missing value column - chargeoff_within_12_mths\n",
    "\n",
    "# Create a crosstab dataframe\n",
    "cross_df = pd.crosstab(df_master['chargeoff_within_12_mths'], df_master['loan_status'])\n",
    "\n",
    "# Convert counts to percentage\n",
    "cross_df = cross_df.div(cross_df.sum(axis=1), axis=0)\n",
    "\n",
    "# Plot\n",
    "cross_df.plot(kind='bar', stacked=True)\n",
    "plt.ylabel('Fraction of Loans')\n",
    "plt.title('Loan Status by chargeoff_within_12_mths')\n",
    "plt.show()\n"
   ]
  },
  {
   "cell_type": "markdown",
   "id": "6b25a3e8",
   "metadata": {},
   "source": [
    "\n",
    "As \"chargeoff_within_12_mths\" has a single value \"0\", it seems to be a constant, we can replace the missing values with mode - \"0\". \n"
   ]
  },
  {
   "cell_type": "code",
   "execution_count": null,
   "id": "2215177f",
   "metadata": {},
   "outputs": [],
   "source": [
    "\n",
    "#### Analysis for missing value column - pub_rec_bankruptcies\n",
    "\n",
    "#pub_rec_bankruptcies\n",
    "\n",
    "print(df_master['pub_rec_bankruptcies'].value_counts())\n",
    "\n",
    "# Create a crosstab dataframe\n",
    "cross_df = pd.crosstab(df_master['pub_rec_bankruptcies'], df_master['loan_status'])\n",
    "\n",
    "# Convert counts to percentage\n",
    "cross_df = cross_df.div(cross_df.sum(axis=1), axis=0)\n",
    "\n",
    "# Plot\n",
    "cross_df.plot(kind='bar', stacked=True)\n",
    "plt.ylabel('Fraction of Loans')\n",
    "plt.title('Loan Status by Bankruptcies')\n",
    "plt.show()"
   ]
  },
  {
   "cell_type": "markdown",
   "id": "f5600fdf",
   "metadata": {},
   "source": [
    "#### Insights\n",
    "\n",
    "There seems to link between Recorded Bankruptcies and increase in cases of Charged Off loan status. \n",
    "There is also lot of Current accounts where recorded bankruptcies are 2.0. \n",
    "This is a public record, and we cannot assume whethere there was a bankruptcies or not for certain accounts. \n",
    "\n",
    "dropping rows where pub_rec_bankruptcies are not available. \n"
   ]
  },
  {
   "cell_type": "code",
   "execution_count": null,
   "id": "9e88f3f1",
   "metadata": {},
   "outputs": [],
   "source": [
    "\n",
    "# Select all rows where Column1 is null\n",
    "#null_rows = loan_data[loan_data['pub_rec_bankruptcies'].isnull()]\n",
    "null_rows = df_master[df_master['pub_rec_bankruptcies'].isnull()][['loan_status', 'pub_rec_bankruptcies']]\n",
    "null_rows\n",
    "\n",
    "null_rows['pub_rec_bankruptcies'].fillna('Unknown', inplace=True)"
   ]
  },
  {
   "cell_type": "code",
   "execution_count": null,
   "id": "ea606c73",
   "metadata": {},
   "outputs": [],
   "source": [
    "\n",
    "# Create a crosstab dataframe\n",
    "cross_df = pd.crosstab(null_rows['pub_rec_bankruptcies'], null_rows['loan_status'])\n",
    "\n",
    "# Convert counts to percentage\n",
    "cross_df = cross_df.div(cross_df.sum(axis=1), axis=0)\n",
    "\n",
    "# Plot\n",
    "cross_df.plot(kind='bar', stacked=True)\n",
    "plt.ylabel('Fraction of Loans')\n",
    "plt.title('Loan Status by Bankruptcies')\n",
    "plt.show()"
   ]
  },
  {
   "cell_type": "markdown",
   "id": "90145fcb",
   "metadata": {},
   "source": [
    "As the percentages of \"Charged Off\" are less here, we can replace the values with \"0\" or a \"constant - Unknown' and use one-hot encoding (dummy variables) \n",
    "\n",
    "However here we would drop all rows where this particular column has null values, assuming \"pub_rec_bankruptcies\" is an important variable.\n"
   ]
  },
  {
   "cell_type": "code",
   "execution_count": null,
   "id": "ac340c89",
   "metadata": {},
   "outputs": [],
   "source": [
    "\n",
    "## Drop rows where Column1 is null\n",
    "## This operation returns a new DataFrame, so we assign it back to df to update it.\n",
    "\n",
    "df_master = df_master.dropna(subset=['pub_rec_bankruptcies'])"
   ]
  },
  {
   "cell_type": "code",
   "execution_count": null,
   "id": "02f47c6d",
   "metadata": {},
   "outputs": [],
   "source": [
    "\n",
    "### Analysis of missing value column - tax_liens\n",
    "                           \n",
    "\n",
    "# Create a crosstab dataframe\n",
    "cross_df = pd.crosstab(df_master['tax_liens'], df_master['loan_status'])\n",
    "\n",
    "# Convert counts to percentage\n",
    "cross_df = cross_df.div(cross_df.sum(axis=1), axis=0)\n",
    "\n",
    "# Plot\n",
    "cross_df.plot(kind='bar', stacked=True)\n",
    "plt.ylabel('Fraction of Loans')\n",
    "plt.title('Loan Status by tax_liens')\n",
    "plt.show()\n",
    "\n"
   ]
  },
  {
   "cell_type": "markdown",
   "id": "4fb5d4ed",
   "metadata": {},
   "source": [
    "As \"tax_liens\" has a single value \"0\", it seems to be a constant, we can replace the missing values with mode - \"0\". \n",
    "\n"
   ]
  },
  {
   "cell_type": "markdown",
   "id": "0f3ccd21",
   "metadata": {},
   "source": [
    "### Univariate Analysis"
   ]
  },
  {
   "cell_type": "code",
   "execution_count": null,
   "id": "1d140c34",
   "metadata": {},
   "outputs": [],
   "source": [
    "df_master.hist(bins=50, figsize=(20,15))\n",
    "plt.show()"
   ]
  },
  {
   "cell_type": "markdown",
   "id": "688ce772",
   "metadata": {},
   "source": [
    "From the graphs column - \"collections_12_mths_ex_med\", \"policy_code\", \"acc_now_delinq\", \"chargeoff_within_12_mths\", \"delinq_amt\", \"tax_liens\" are all constant, and hence their analysis would not make any sense.\n",
    "\n",
    "Hence dropping those columns."
   ]
  },
  {
   "cell_type": "code",
   "execution_count": null,
   "id": "26399862",
   "metadata": {},
   "outputs": [],
   "source": [
    "# Dropping column that are constant\n",
    "df_master = df_master.drop(columns=[\"collections_12_mths_ex_med\",\n",
    "                                    \"policy_code\", \n",
    "                                    \"acc_now_delinq\",\n",
    "                                    \"chargeoff_within_12_mths\",\n",
    "                                    \"delinq_amnt\", \n",
    "                                    \"tax_liens\"])"
   ]
  },
  {
   "cell_type": "code",
   "execution_count": null,
   "id": "79656a77",
   "metadata": {},
   "outputs": [],
   "source": [
    "df_master.info()"
   ]
  },
  {
   "cell_type": "code",
   "execution_count": null,
   "id": "360b2e83",
   "metadata": {},
   "outputs": [],
   "source": [
    "behaviour_var =  [\n",
    "  \"delinq_2yrs\",\n",
    "  \"earliest_cr_line\",\n",
    "  \"inq_last_6mths\",\n",
    "  \"open_acc\",\n",
    "  \"pub_rec\",\n",
    "  \"revol_bal\",\n",
    "  \"revol_util\",\n",
    "  \"total_acc\",\n",
    "  \"out_prncp\",\n",
    "  \"out_prncp_inv\",\n",
    "  \"total_pymnt\",\n",
    "  \"total_pymnt_inv\",\n",
    "  \"total_rec_prncp\",\n",
    "  \"total_rec_int\",\n",
    "  \"total_rec_late_fee\",\n",
    "  \"recoveries\",\n",
    "  \"collection_recovery_fee\",\n",
    "  \"last_pymnt_amnt\",\n",
    "  \"last_credit_pull_d\",\n",
    "  \"application_type\"]\n",
    "behaviour_var"
   ]
  },
  {
   "cell_type": "code",
   "execution_count": null,
   "id": "555a247a",
   "metadata": {},
   "outputs": [],
   "source": [
    "#remove the behaviour variables from analysis as they won't decide the drivers for default as we want to identify \n",
    "#risky applicants and servicing records won't help\n",
    "\n",
    "df_master = df_master.drop(behaviour_var, axis=1)\n",
    "df_master.info()"
   ]
  },
  {
   "cell_type": "code",
   "execution_count": null,
   "id": "92ceb936",
   "metadata": {},
   "outputs": [],
   "source": [
    "installment = df_master.hvplot.hist(\n",
    "    y='installment', by='loan_status', subplots=False, \n",
    "    width=350, height=400, bins=50, alpha=0.4, \n",
    "    title=\"Installment by Loan Status\", \n",
    "    xlabel='Installment', ylabel='Counts', legend='top'\n",
    ")\n",
    "\n",
    "loan_amnt = df_master.hvplot.hist(\n",
    "    y='loan_amnt', by='loan_status', subplots=False, \n",
    "    width=350, height=400, bins=30, alpha=0.4, \n",
    "    title=\"Loan Amount by Loan Status\", \n",
    "    xlabel='Loan Amount', ylabel='Counts', legend='top'\n",
    ")\n",
    "\n",
    "installment + loan_amnt"
   ]
  },
  {
   "cell_type": "markdown",
   "id": "636ce1a9",
   "metadata": {},
   "source": [
    "### Though installment seems to add noise but we shall bin it and see later"
   ]
  },
  {
   "cell_type": "code",
   "execution_count": null,
   "id": "2d72cb0c",
   "metadata": {},
   "outputs": [],
   "source": [
    "# dropping zip_code and addr_state as they won't be the drivers for default\n",
    "df_master = df_master.drop(['zip_code', 'addr_state'], axis=1)"
   ]
  },
  {
   "cell_type": "code",
   "execution_count": null,
   "id": "c08461ef",
   "metadata": {},
   "outputs": [],
   "source": [
    "# filtering only fully paid or charged-off\n",
    "df_master = df_master[df_master['loan_status'] != 'Current']\n",
    "df_master['loan_status'] = df_master['loan_status'].apply(lambda x: 0 if x=='Fully Paid' else 1)\n",
    "\n",
    "# converting loan_status to integer type\n",
    "df_master['loan_status'] = df_master['loan_status'].apply(lambda x: pd.to_numeric(x))\n",
    "\n",
    "# summarising the values\n",
    "df_master['loan_status'].value_counts()"
   ]
  },
  {
   "cell_type": "code",
   "execution_count": null,
   "id": "f973db88",
   "metadata": {},
   "outputs": [],
   "source": [
    "def plot_cat(cat_var):\n",
    "    sns.barplot(x=cat_var, y='loan_status', data=df_master)\n",
    "    plt.show()\n",
    "    "
   ]
  },
  {
   "cell_type": "code",
   "execution_count": null,
   "id": "a258c90d",
   "metadata": {},
   "outputs": [],
   "source": [
    "plot_cat('grade')\n"
   ]
  },
  {
   "cell_type": "markdown",
   "id": "d6db4ab5",
   "metadata": {},
   "source": [
    "Clearly, as the grade of loan goes from A to G, the default rate increases. This is expected because the grade is decided by Lending Club based on the riskiness of the loan. "
   ]
  },
  {
   "cell_type": "code",
   "execution_count": null,
   "id": "619b43e9",
   "metadata": {},
   "outputs": [],
   "source": [
    "# sub-grade: as expected - A1 is better than A2 better than A3 and so on \n",
    "plt.figure(figsize=(16, 6))\n",
    "plot_cat('sub_grade')"
   ]
  },
  {
   "cell_type": "code",
   "execution_count": null,
   "id": "f67fdb7c",
   "metadata": {},
   "outputs": [],
   "source": [
    "# home ownership: not a great discriminator\n",
    "plot_cat('home_ownership')"
   ]
  },
  {
   "cell_type": "code",
   "execution_count": null,
   "id": "935600db",
   "metadata": {},
   "outputs": [],
   "source": [
    "# verification_status: surprisingly, verified loans default more than not verifiedb\n",
    "plot_cat('verification_status')"
   ]
  },
  {
   "cell_type": "code",
   "execution_count": null,
   "id": "fb4038b1",
   "metadata": {},
   "outputs": [],
   "source": [
    "# purpose: small business loans defualt the most, then renewable energy and education\n",
    "plt.figure(figsize=(16, 6))\n",
    "plot_cat('purpose')"
   ]
  },
  {
   "cell_type": "code",
   "execution_count": 1,
   "id": "55cb73b3",
   "metadata": {},
   "outputs": [
    {
     "ename": "NameError",
     "evalue": "name 'df_master' is not defined",
     "output_type": "error",
     "traceback": [
      "\u001b[0;31m---------------------------------------------------------------------------\u001b[0m",
      "\u001b[0;31mNameError\u001b[0m                                 Traceback (most recent call last)",
      "Cell \u001b[0;32mIn[1], line 2\u001b[0m\n\u001b[1;32m      1\u001b[0m \u001b[38;5;28;01mfrom\u001b[39;00m \u001b[38;5;21;01mdatetime\u001b[39;00m \u001b[38;5;28;01mimport\u001b[39;00m datetime\n\u001b[0;32m----> 2\u001b[0m df_master[\u001b[38;5;124m'\u001b[39m\u001b[38;5;124missue_d\u001b[39m\u001b[38;5;124m'\u001b[39m] \u001b[38;5;241m=\u001b[39m \u001b[43mdf_master\u001b[49m[\u001b[38;5;124m'\u001b[39m\u001b[38;5;124missue_d\u001b[39m\u001b[38;5;124m'\u001b[39m]\u001b[38;5;241m.\u001b[39mapply(\u001b[38;5;28;01mlambda\u001b[39;00m x: datetime\u001b[38;5;241m.\u001b[39mstrptime(x, \u001b[38;5;124m'\u001b[39m\u001b[38;5;124m%\u001b[39m\u001b[38;5;124mb-\u001b[39m\u001b[38;5;124m%\u001b[39m\u001b[38;5;124my\u001b[39m\u001b[38;5;124m'\u001b[39m))\n\u001b[1;32m      5\u001b[0m \u001b[38;5;66;03m# extracting month and year from issue_date\u001b[39;00m\n\u001b[1;32m      6\u001b[0m df_master[\u001b[38;5;124m'\u001b[39m\u001b[38;5;124mmonth\u001b[39m\u001b[38;5;124m'\u001b[39m] \u001b[38;5;241m=\u001b[39m df_master[\u001b[38;5;124m'\u001b[39m\u001b[38;5;124missue_d\u001b[39m\u001b[38;5;124m'\u001b[39m]\u001b[38;5;241m.\u001b[39mapply(\u001b[38;5;28;01mlambda\u001b[39;00m x: x\u001b[38;5;241m.\u001b[39mmonth)\n",
      "\u001b[0;31mNameError\u001b[0m: name 'df_master' is not defined"
     ]
    }
   ],
   "source": [
    "from datetime import datetime\n",
    "df_master['issue_d'] = df_master['issue_d'].apply(lambda x: datetime.strptime(x, '%b-%y'))\n",
    "\n",
    "\n",
    "# extracting month and year from issue_date\n",
    "df_master['month'] = df_master['issue_d'].apply(lambda x: x.month)\n",
    "df_master['year'] = df_master['issue_d'].apply(lambda x: x.year)\n",
    "\n",
    "\n",
    "\n",
    "\n",
    "# number of loans granted across years\n",
    "df_master.groupby('year').year.count()"
   ]
  },
  {
   "cell_type": "code",
   "execution_count": null,
   "id": "7faf4fc0",
   "metadata": {},
   "outputs": [],
   "source": [
    "# the default rate had suddenly increased in 2011, inspite of reducing from 2008 till 2010\n",
    "plot_cat('year')"
   ]
  },
  {
   "cell_type": "code",
   "execution_count": null,
   "id": "055301be",
   "metadata": {},
   "outputs": [],
   "source": [
    "# comparing default rates across months: not much variation across months\n",
    "plt.figure(figsize=(16, 6))\n",
    "plot_cat('month')"
   ]
  },
  {
   "cell_type": "markdown",
   "id": "4c2a0089",
   "metadata": {},
   "source": [
    "### For Continuous Variables"
   ]
  },
  {
   "cell_type": "code",
   "execution_count": null,
   "id": "f9d292d1",
   "metadata": {},
   "outputs": [],
   "source": [
    "# loan amount: the median loan amount is around 10,000\n",
    "sns.distplot(df_master['loan_amnt'])\n",
    "plt.show()"
   ]
  },
  {
   "cell_type": "markdown",
   "id": "d5f3001b",
   "metadata": {},
   "source": [
    "### binning the loan amount variable into small, medium, high, very high."
   ]
  },
  {
   "cell_type": "code",
   "execution_count": null,
   "id": "15c2ec8b",
   "metadata": {},
   "outputs": [],
   "source": [
    "# binning loan amount\n",
    "def loan_amount(n):\n",
    "    if n < 5000:\n",
    "        return 'low'\n",
    "    elif n >=5000 and n < 15000:\n",
    "        return 'medium'\n",
    "    elif n >= 15000 and n < 25000:\n",
    "        return 'high'\n",
    "    else:\n",
    "        return 'very high'\n",
    "        \n",
    "df_master['loan_amnt'] = df_master['loan_amnt'].apply(lambda x: loan_amount(x))\n"
   ]
  },
  {
   "cell_type": "code",
   "execution_count": null,
   "id": "ef2a78ea",
   "metadata": {},
   "outputs": [],
   "source": [
    "df_master['loan_amnt'].value_counts()"
   ]
  },
  {
   "cell_type": "code",
   "execution_count": null,
   "id": "e3682e65",
   "metadata": {},
   "outputs": [],
   "source": [
    "# higher the loan amount, higher the default rate\n",
    "plot_cat('loan_amnt')"
   ]
  },
  {
   "cell_type": "code",
   "execution_count": null,
   "id": "b00fd4ce",
   "metadata": {},
   "outputs": [],
   "source": [
    "# convert funded amount invested to bins\n",
    "df_master['funded_amnt_inv'] = df_master['funded_amnt_inv'].apply(lambda x: loan_amount(x))"
   ]
  },
  {
   "cell_type": "code",
   "execution_count": null,
   "id": "3f939f97",
   "metadata": {},
   "outputs": [],
   "source": [
    "# funded amount invested\n",
    "plot_cat('funded_amnt_inv')"
   ]
  },
  {
   "cell_type": "code",
   "execution_count": null,
   "id": "933f99f7",
   "metadata": {},
   "outputs": [],
   "source": [
    "# convert interest rate to low, medium, high\n",
    "\n",
    "#column int_rate is character type, convert it to float\n",
    "\n",
    "df_master['int_rate'] = df_master['int_rate'].apply(lambda x: pd.to_numeric(x.split(\"%\")[0]))\n",
    "\n",
    "def int_rate(n):\n",
    "    if n <= 10:\n",
    "        return 'low'\n",
    "    elif n > 10 and n <=15:\n",
    "        return 'medium'\n",
    "    else:\n",
    "        return 'high'\n",
    "    \n",
    "    \n",
    "df_master['int_rate'] = df_master['int_rate'].apply(lambda x: int_rate(x))"
   ]
  },
  {
   "cell_type": "code",
   "execution_count": null,
   "id": "67d45fec",
   "metadata": {},
   "outputs": [],
   "source": [
    "# high interest rates default more, as expected\n",
    "plot_cat('int_rate')"
   ]
  },
  {
   "cell_type": "code",
   "execution_count": null,
   "id": "87404ad0",
   "metadata": {},
   "outputs": [],
   "source": [
    "#debt to income ratio\n",
    "\n",
    "def dti(n):\n",
    "    if n <= 10:\n",
    "        return 'low'\n",
    "    elif n > 10 and n <=20:\n",
    "        return 'medium'\n",
    "    else:\n",
    "        return 'high'\n",
    "    \n",
    "\n",
    "df_master['dti'] = df_master['dti'].apply(lambda x: dti(x))"
   ]
  },
  {
   "cell_type": "code",
   "execution_count": null,
   "id": "81913a53",
   "metadata": {},
   "outputs": [],
   "source": [
    "#high dti translates into higher default rates, as expected\n",
    "plot_cat('dti')"
   ]
  },
  {
   "cell_type": "code",
   "execution_count": null,
   "id": "ab976913",
   "metadata": {},
   "outputs": [],
   "source": [
    "# funded amount\n",
    "def funded_amount(n):\n",
    "    if n <= 5000:\n",
    "        return 'low'\n",
    "    elif n > 5000 and n <=15000:\n",
    "        return 'medium'\n",
    "    else:\n",
    "        return 'high'\n",
    "    \n",
    "df_master['funded_amnt'] = df_master['funded_amnt'].apply(lambda x: funded_amount(x))"
   ]
  },
  {
   "cell_type": "code",
   "execution_count": null,
   "id": "351a0fa9",
   "metadata": {},
   "outputs": [],
   "source": [
    "plot_cat('funded_amnt')"
   ]
  },
  {
   "cell_type": "code",
   "execution_count": null,
   "id": "6ef30069",
   "metadata": {},
   "outputs": [],
   "source": [
    "# installment\n",
    "def installment(n):\n",
    "    if n <= 200:\n",
    "        return 'low'\n",
    "    elif n > 200 and n <=400:\n",
    "        return 'medium'\n",
    "    elif n > 400 and n <=600:\n",
    "        return 'high'\n",
    "    else:\n",
    "        return 'very high'\n",
    "    \n",
    "df_master['installment'] = df_master['installment'].apply(lambda x: installment(x))"
   ]
  },
  {
   "cell_type": "code",
   "execution_count": null,
   "id": "57217dff",
   "metadata": {},
   "outputs": [],
   "source": [
    "# the higher the installment amount, the higher the default rate but is actually a noise \n",
    "plot_cat('installment')"
   ]
  },
  {
   "cell_type": "code",
   "execution_count": null,
   "id": "1662f79a",
   "metadata": {},
   "outputs": [],
   "source": [
    "# annual income\n",
    "def annual_income(n):\n",
    "    if n <= 50000:\n",
    "        return 'low'\n",
    "    elif n > 50000 and n <=100000:\n",
    "        return 'medium'\n",
    "    elif n > 100000 and n <=150000:\n",
    "        return 'high'\n",
    "    else:\n",
    "        return 'very high'\n",
    "\n",
    "df_master['annual_inc'] = df_master['annual_inc'].apply(lambda x: annual_income(x))"
   ]
  },
  {
   "cell_type": "code",
   "execution_count": null,
   "id": "48be7d86",
   "metadata": {},
   "outputs": [],
   "source": [
    "# lower the annual income, higher the default rate\n",
    "plot_cat('annual_inc')"
   ]
  },
  {
   "cell_type": "code",
   "execution_count": null,
   "id": "9a98ee7c",
   "metadata": {},
   "outputs": [],
   "source": [
    "# emp_length and default rate\n",
    "# not much of a predictor of default\n",
    "plot_cat('emp_length')\n"
   ]
  },
  {
   "cell_type": "code",
   "execution_count": null,
   "id": "458ff232",
   "metadata": {},
   "outputs": [],
   "source": [
    "# paymnt_plan and default rate\n",
    "# not much of a predictor of default\n",
    "plot_cat('pymnt_plan')"
   ]
  },
  {
   "cell_type": "code",
   "execution_count": null,
   "id": "4f50ed13",
   "metadata": {},
   "outputs": [],
   "source": [
    "plt.figure(figsize=(12, 8))\n",
    "sns.heatmap(df_master.corr(), annot=True, cmap='viridis')"
   ]
  },
  {
   "cell_type": "code",
   "execution_count": null,
   "id": "152b9ae2",
   "metadata": {},
   "outputs": [],
   "source": [
    "df_master.corr()['loan_status'].drop('loan_status').sort_values().hvplot.barh(\n",
    "    width=600, height=400, \n",
    "    title=\"Correlation between Loan status and Numeric Features\", \n",
    "    ylabel='Correlation', xlabel='Numerical Features', \n",
    ")"
   ]
  },
  {
   "cell_type": "markdown",
   "id": "0f37768d",
   "metadata": {},
   "source": [
    "### Final Conclusion-:\n",
    "\n",
    "Important features to understand the driving factors (or driver variables) behind loan default, i.e. the variables which are strong indicators of default are\n",
    "\n",
    "1\tfunded_amnt\n",
    "2\tfunded_amnt_inv\n",
    "3\tterm\n",
    "4\tint_rate\n",
    "5\tgrade\n",
    "6\tsub_grade\n",
    "7\tannual_inc\n",
    "8\tverification_status\n",
    "9\tissue_d \n",
    "10\tpurpose\n",
    "11\tdti\n",
    "12\tpub_rec_bankruptcies\n",
    "\n",
    "Note-: issue_d as such is not a significant var but year var created out of it is significant\n"
   ]
  },
  {
   "cell_type": "code",
   "execution_count": null,
   "id": "cb133f91",
   "metadata": {},
   "outputs": [],
   "source": []
  }
 ],
 "metadata": {
  "kernelspec": {
   "display_name": "Python 3 (ipykernel)",
   "language": "python",
   "name": "python3"
  },
  "language_info": {
   "codemirror_mode": {
    "name": "ipython",
    "version": 3
   },
   "file_extension": ".py",
   "mimetype": "text/x-python",
   "name": "python",
   "nbconvert_exporter": "python",
   "pygments_lexer": "ipython3",
   "version": "3.10.9"
  }
 },
 "nbformat": 4,
 "nbformat_minor": 5
}
